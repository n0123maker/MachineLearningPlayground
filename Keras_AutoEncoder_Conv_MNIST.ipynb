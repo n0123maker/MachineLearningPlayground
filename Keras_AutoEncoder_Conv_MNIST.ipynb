{
 "cells": [
  {
   "cell_type": "code",
   "execution_count": 3,
   "metadata": {},
   "outputs": [],
   "source": [
    "import numpy as np\n",
    "import matplotlib.pyplot as plt\n",
    "from keras.layers import Input, Dense, Conv2D, MaxPooling2D, UpSampling2D\n",
    "from keras.models import Model\n",
    "#from keras import backend as K\n",
    "from keras.datasets import mnist\n",
    "\n",
    "input_img = Input(shape=(28, 28, 1))  # adapt this if using `channels_first` image data format\n",
    "\n",
    "x = Conv2D(16, (3, 3), activation='relu', padding='same')(input_img)\n",
    "x = MaxPooling2D((2, 2), padding='same')(x)\n",
    "x = Conv2D(8, (3, 3), activation='relu', padding='same')(x)\n",
    "x = MaxPooling2D((2, 2), padding='same')(x)\n",
    "x = Conv2D(8, (3, 3), activation='relu', padding='same')(x)\n",
    "encoded = MaxPooling2D((2, 2), padding='same')(x)\n",
    "\n",
    "# at this point the representation is (4, 4, 8) i.e. 128-dimensional\n",
    "\n",
    "x = Conv2D(8, (3, 3), activation='relu', padding='same')(encoded)\n",
    "x = UpSampling2D((2, 2))(x)\n",
    "x = Conv2D(8, (3, 3), activation='relu', padding='same')(x)\n",
    "x = UpSampling2D((2, 2))(x)\n",
    "x = Conv2D(16, (3, 3), activation='relu')(x)\n",
    "x = UpSampling2D((2, 2))(x)\n",
    "decoded = Conv2D(1, (3, 3), activation='sigmoid', padding='same')(x)\n",
    "\n",
    "autoencoder = Model(input_img, decoded)\n",
    "autoencoder.compile(optimizer='adadelta', loss='binary_crossentropy')\n",
    "\n",
    "(x_train, _), (x_test, _) = mnist.load_data()\n",
    "\n",
    "x_train = x_train.astype('float32') / 255.\n",
    "x_test = x_test.astype('float32') / 255.\n",
    "x_train = np.reshape(x_train, (len(x_train), 28, 28, 1))  # adapt this if using `channels_first` image data format\n",
    "x_test = np.reshape(x_test, (len(x_test), 28, 28, 1))  # adapt this if using `channels_first` image data format"
   ]
  },
  {
   "cell_type": "code",
   "execution_count": 4,
   "metadata": {},
   "outputs": [
    {
     "name": "stdout",
     "output_type": "stream",
     "text": [
      "Train on 60000 samples, validate on 10000 samples\n",
      "Epoch 1/50\n",
      "60000/60000 [==============================] - 90s 2ms/step - loss: 0.5302 - val_loss: 0.2897\n",
      "Epoch 2/50\n",
      "60000/60000 [==============================] - 94s 2ms/step - loss: 0.2508 - val_loss: 0.2310\n",
      "Epoch 3/50\n",
      "60000/60000 [==============================] - 89s 1ms/step - loss: 0.2216 - val_loss: 0.2152\n",
      "Epoch 4/50\n",
      "60000/60000 [==============================] - 90s 2ms/step - loss: 0.2078 - val_loss: 0.2007\n",
      "Epoch 5/50\n",
      "60000/60000 [==============================] - 91s 2ms/step - loss: 0.1997 - val_loss: 0.1947\n",
      "Epoch 6/50\n",
      "60000/60000 [==============================] - 88s 1ms/step - loss: 0.1931 - val_loss: 0.1906\n",
      "Epoch 7/50\n",
      "60000/60000 [==============================] - 89s 1ms/step - loss: 0.1878 - val_loss: 0.1848\n",
      "Epoch 8/50\n",
      "60000/60000 [==============================] - 87s 1ms/step - loss: 0.1832 - val_loss: 0.1830\n",
      "Epoch 9/50\n",
      "60000/60000 [==============================] - 87s 1ms/step - loss: 0.1799 - val_loss: 0.1762\n",
      "Epoch 10/50\n",
      "60000/60000 [==============================] - 87s 1ms/step - loss: 0.1767 - val_loss: 0.1740\n",
      "Epoch 11/50\n",
      "60000/60000 [==============================] - 86s 1ms/step - loss: 0.1736 - val_loss: 0.1778\n",
      "Epoch 12/50\n",
      "60000/60000 [==============================] - 87s 1ms/step - loss: 0.1712 - val_loss: 0.1680\n",
      "Epoch 13/50\n",
      "60000/60000 [==============================] - 86s 1ms/step - loss: 0.1688 - val_loss: 0.1666\n",
      "Epoch 14/50\n",
      "60000/60000 [==============================] - 88s 1ms/step - loss: 0.1670 - val_loss: 0.1632\n",
      "Epoch 15/50\n",
      "60000/60000 [==============================] - 97s 2ms/step - loss: 0.1644 - val_loss: 0.1661\n",
      "Epoch 16/50\n",
      "60000/60000 [==============================] - 100s 2ms/step - loss: 0.1641 - val_loss: 0.1616\n",
      "Epoch 17/50\n",
      "60000/60000 [==============================] - 90s 1ms/step - loss: 0.1618 - val_loss: 0.1642\n",
      "Epoch 18/50\n",
      "60000/60000 [==============================] - 88s 1ms/step - loss: 0.1605 - val_loss: 0.1584\n",
      "Epoch 19/50\n",
      "60000/60000 [==============================] - 88s 1ms/step - loss: 0.1591 - val_loss: 0.1567\n",
      "Epoch 20/50\n",
      "60000/60000 [==============================] - 89s 1ms/step - loss: 0.1566 - val_loss: 0.1553\n",
      "Epoch 21/50\n",
      "60000/60000 [==============================] - 87s 1ms/step - loss: 0.1573 - val_loss: 0.1543\n",
      "Epoch 22/50\n",
      "60000/60000 [==============================] - 87s 1ms/step - loss: 0.1544 - val_loss: 0.1519\n",
      "Epoch 23/50\n",
      "60000/60000 [==============================] - 89s 1ms/step - loss: 0.1548 - val_loss: 0.1531\n",
      "Epoch 24/50\n",
      "60000/60000 [==============================] - 92s 2ms/step - loss: 0.1531 - val_loss: 0.1532\n",
      "Epoch 25/50\n",
      "60000/60000 [==============================] - 95s 2ms/step - loss: 0.1518 - val_loss: 0.1493\n",
      "Epoch 26/50\n",
      "60000/60000 [==============================] - 92s 2ms/step - loss: 0.1511 - val_loss: 0.1497\n",
      "Epoch 27/50\n",
      "60000/60000 [==============================] - 103s 2ms/step - loss: 0.1499 - val_loss: 0.1512\n",
      "Epoch 28/50\n",
      "60000/60000 [==============================] - 95s 2ms/step - loss: 0.1486 - val_loss: 0.1481\n",
      "Epoch 29/50\n",
      "60000/60000 [==============================] - 98s 2ms/step - loss: 0.1483 - val_loss: 0.1458\n",
      "Epoch 30/50\n",
      "60000/60000 [==============================] - 88s 1ms/step - loss: 0.1473 - val_loss: 0.1479\n",
      "Epoch 31/50\n",
      "60000/60000 [==============================] - 88s 1ms/step - loss: 0.1468 - val_loss: 0.1449\n",
      "Epoch 32/50\n",
      "60000/60000 [==============================] - 90s 1ms/step - loss: 0.1438 - val_loss: 0.1543\n",
      "Epoch 33/50\n",
      "60000/60000 [==============================] - 86s 1ms/step - loss: 0.1456 - val_loss: 0.1438\n",
      "Epoch 34/50\n",
      "60000/60000 [==============================] - 86s 1ms/step - loss: 0.1437 - val_loss: 0.1411\n",
      "Epoch 35/50\n",
      "60000/60000 [==============================] - 93s 2ms/step - loss: 0.1434 - val_loss: 0.1426\n",
      "Epoch 36/50\n",
      "60000/60000 [==============================] - 88s 1ms/step - loss: 0.1425 - val_loss: 0.1412\n",
      "Epoch 37/50\n",
      "60000/60000 [==============================] - 87s 1ms/step - loss: 0.1413 - val_loss: 0.1396\n",
      "Epoch 38/50\n",
      "60000/60000 [==============================] - 87s 1ms/step - loss: 0.1410 - val_loss: 0.1391\n",
      "Epoch 39/50\n",
      "60000/60000 [==============================] - 87s 1ms/step - loss: 0.1400 - val_loss: 0.1376\n",
      "Epoch 40/50\n",
      "60000/60000 [==============================] - 87s 1ms/step - loss: 0.1400 - val_loss: 0.1377\n",
      "Epoch 41/50\n",
      "60000/60000 [==============================] - 87s 1ms/step - loss: 0.1393 - val_loss: 0.1366\n",
      "Epoch 42/50\n",
      "60000/60000 [==============================] - 87s 1ms/step - loss: 0.1387 - val_loss: 0.1378\n",
      "Epoch 43/50\n",
      "60000/60000 [==============================] - 78s 1ms/step - loss: 0.1376 - val_loss: 0.1359\n",
      "Epoch 44/50\n",
      "60000/60000 [==============================] - 78s 1ms/step - loss: 0.1371 - val_loss: 0.1357\n",
      "Epoch 45/50\n",
      "60000/60000 [==============================] - 78s 1ms/step - loss: 0.1372 - val_loss: 0.1375\n",
      "Epoch 46/50\n",
      "60000/60000 [==============================] - 78s 1ms/step - loss: 0.1367 - val_loss: 0.1374\n",
      "Epoch 47/50\n",
      "60000/60000 [==============================] - 78s 1ms/step - loss: 0.1356 - val_loss: 0.1348\n",
      "Epoch 48/50\n",
      "60000/60000 [==============================] - 78s 1ms/step - loss: 0.1354 - val_loss: 0.1349\n",
      "Epoch 49/50\n",
      "60000/60000 [==============================] - 82s 1ms/step - loss: 0.1349 - val_loss: 0.1333\n",
      "Epoch 50/50\n",
      "60000/60000 [==============================] - 87s 1ms/step - loss: 0.1347 - val_loss: 0.1342\n"
     ]
    },
    {
     "data": {
      "text/plain": [
       "<keras.callbacks.History at 0x20881524400>"
      ]
     },
     "execution_count": 4,
     "metadata": {},
     "output_type": "execute_result"
    }
   ],
   "source": [
    "autoencoder.fit(x_train, x_train,\n",
    "                epochs=50,\n",
    "                batch_size=2048,\n",
    "                shuffle=True,\n",
    "                validation_data=(x_test, x_test))"
   ]
  },
  {
   "cell_type": "code",
   "execution_count": 5,
   "metadata": {},
   "outputs": [
    {
     "data": {
      "image/png": "[encoded data removed]",
      "text/plain": [
       "<Figure size 1440x288 with 20 Axes>"
      ]
     },
     "metadata": {
      "needs_background": "light"
     },
     "output_type": "display_data"
    }
   ],
   "source": [
    "decoded_imgs = autoencoder.predict(x_test)\n",
    "\n",
    "n = 10\n",
    "plt.figure(figsize=(20, 4))\n",
    "for i in range(n):\n",
    "    # display original\n",
    "    ax = plt.subplot(2, n, i + 1)\n",
    "    plt.imshow(x_test[i].reshape(28, 28))\n",
    "    plt.gray()\n",
    "    ax.get_xaxis().set_visible(False)\n",
    "    ax.get_yaxis().set_visible(False)\n",
    "\n",
    "    # display reconstruction\n",
    "    ax = plt.subplot(2, n, i + 1 + n)\n",
    "    plt.imshow(decoded_imgs[i].reshape(28, 28))\n",
    "    plt.gray()\n",
    "    ax.get_xaxis().set_visible(False)\n",
    "    ax.get_yaxis().set_visible(False)\n",
    "plt.show()"
   ]
  },
  {
   "cell_type": "code",
   "execution_count": 6,
   "metadata": {},
   "outputs": [
    {
     "ename": "NameError",
     "evalue": "name 'encoded_imgs' is not defined",
     "output_type": "error",
     "traceback": [
      "\u001b[1;31m---------------------------------------------------------------------------\u001b[0m",
      "\u001b[1;31mNameError\u001b[0m                                 Traceback (most recent call last)",
      "\u001b[1;32m<ipython-input-6-d4fe4b7ce061>\u001b[0m in \u001b[0;36m<module>\u001b[1;34m\u001b[0m\n\u001b[0;32m      3\u001b[0m \u001b[1;32mfor\u001b[0m \u001b[0mi\u001b[0m \u001b[1;32min\u001b[0m \u001b[0mrange\u001b[0m\u001b[1;33m(\u001b[0m\u001b[0mn\u001b[0m\u001b[1;33m)\u001b[0m\u001b[1;33m:\u001b[0m\u001b[1;33m\u001b[0m\u001b[1;33m\u001b[0m\u001b[0m\n\u001b[0;32m      4\u001b[0m     \u001b[0max\u001b[0m \u001b[1;33m=\u001b[0m \u001b[0mplt\u001b[0m\u001b[1;33m.\u001b[0m\u001b[0msubplot\u001b[0m\u001b[1;33m(\u001b[0m\u001b[1;36m1\u001b[0m\u001b[1;33m,\u001b[0m \u001b[0mn\u001b[0m\u001b[1;33m,\u001b[0m \u001b[0mi\u001b[0m \u001b[1;33m+\u001b[0m \u001b[1;36m1\u001b[0m\u001b[1;33m)\u001b[0m\u001b[1;33m\u001b[0m\u001b[1;33m\u001b[0m\u001b[0m\n\u001b[1;32m----> 5\u001b[1;33m     \u001b[0mplt\u001b[0m\u001b[1;33m.\u001b[0m\u001b[0mimshow\u001b[0m\u001b[1;33m(\u001b[0m\u001b[0mencoded_imgs\u001b[0m\u001b[1;33m[\u001b[0m\u001b[0mi\u001b[0m\u001b[1;33m]\u001b[0m\u001b[1;33m.\u001b[0m\u001b[0mreshape\u001b[0m\u001b[1;33m(\u001b[0m\u001b[1;36m4\u001b[0m\u001b[1;33m,\u001b[0m \u001b[1;36m4\u001b[0m \u001b[1;33m*\u001b[0m \u001b[1;36m8\u001b[0m\u001b[1;33m)\u001b[0m\u001b[1;33m.\u001b[0m\u001b[0mT\u001b[0m\u001b[1;33m)\u001b[0m\u001b[1;33m\u001b[0m\u001b[1;33m\u001b[0m\u001b[0m\n\u001b[0m\u001b[0;32m      6\u001b[0m     \u001b[0mplt\u001b[0m\u001b[1;33m.\u001b[0m\u001b[0mgray\u001b[0m\u001b[1;33m(\u001b[0m\u001b[1;33m)\u001b[0m\u001b[1;33m\u001b[0m\u001b[1;33m\u001b[0m\u001b[0m\n\u001b[0;32m      7\u001b[0m     \u001b[0max\u001b[0m\u001b[1;33m.\u001b[0m\u001b[0mget_xaxis\u001b[0m\u001b[1;33m(\u001b[0m\u001b[1;33m)\u001b[0m\u001b[1;33m.\u001b[0m\u001b[0mset_visible\u001b[0m\u001b[1;33m(\u001b[0m\u001b[1;32mFalse\u001b[0m\u001b[1;33m)\u001b[0m\u001b[1;33m\u001b[0m\u001b[1;33m\u001b[0m\u001b[0m\n",
      "\u001b[1;31mNameError\u001b[0m: name 'encoded_imgs' is not defined"
     ]
    },
    {
     "data": {
      "image/png": "[encoded data removed]",
      "text/plain": [
       "<Figure size 1440x576 with 1 Axes>"
      ]
     },
     "metadata": {
      "needs_background": "light"
     },
     "output_type": "display_data"
    }
   ],
   "source": [
    "n = 10\n",
    "plt.figure(figsize=(20, 8))\n",
    "for i in range(n):\n",
    "    ax = plt.subplot(1, n, i + 1)\n",
    "    plt.imshow(encoded_imgs[i].reshape(4, 4 * 8).T)\n",
    "    plt.gray()\n",
    "    ax.get_xaxis().set_visible(False)\n",
    "    ax.get_yaxis().set_visible(False)\n",
    "plt.show()"
   ]
  }
 ],
 "metadata": {
  "kernelspec": {
   "display_name": "Python 3",
   "language": "python",
   "name": "python3"
  },
  "language_info": {
   "codemirror_mode": {
    "name": "ipython",
    "version": 3
   },
   "file_extension": ".py",
   "mimetype": "text/x-python",
   "name": "python",
   "nbconvert_exporter": "python",
   "pygments_lexer": "ipython3",
   "version": "3.6.8"
  }
 },
 "nbformat": 4,
 "nbformat_minor": 2
}
