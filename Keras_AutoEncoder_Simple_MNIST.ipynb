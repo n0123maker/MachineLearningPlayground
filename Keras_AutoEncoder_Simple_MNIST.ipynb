{
 "cells": [
  {
   "cell_type": "code",
   "execution_count": 4,
   "metadata": {},
   "outputs": [
    {
     "name": "stdout",
     "output_type": "stream",
     "text": [
      "(60000, 784)\n",
      "(10000, 784)\n"
     ]
    }
   ],
   "source": [
    "import matplotlib.pyplot as plt\n",
    "%matplotlib inline\n",
    "import numpy as np\n",
    "from keras.layers import Input, Dense\n",
    "from keras.models import Model\n",
    "from keras.datasets import mnist\n",
    "\n",
    "# this is the size of our encoded representations\n",
    "encoding_dim = 32  # 32 floats -> compression of factor 24.5, assuming the input is 784 floats\n",
    "\n",
    "# this is our input placeholder\n",
    "input_img = Input(shape=(784,))\n",
    "# \"encoded\" is the encoded representation of the input\n",
    "encoded = Dense(encoding_dim, activation='relu')(input_img)\n",
    "# \"decoded\" is the lossy reconstruction of the input\n",
    "decoded = Dense(784, activation='sigmoid')(encoded)\n",
    "\n",
    "# this model maps an input to its reconstruction\n",
    "autoencoder = Model(input_img, decoded)\n",
    "\n",
    "# this model maps an input to its encoded representation\n",
    "encoder = Model(input_img, encoded)\n",
    "\n",
    "# create a placeholder for an encoded (32-dimensional) input\n",
    "encoded_input = Input(shape=(encoding_dim,))\n",
    "# retrieve the last layer of the autoencoder model\n",
    "decoder_layer = autoencoder.layers[-1]\n",
    "# create the decoder model\n",
    "decoder = Model(encoded_input, decoder_layer(encoded_input))\n",
    "\n",
    "autoencoder.compile(optimizer='adadelta', loss='binary_crossentropy')\n",
    "\n",
    "(x_train, _), (x_test, _) = mnist.load_data()\n",
    "\n",
    "x_train = x_train.astype('float32') / 255.\n",
    "x_test = x_test.astype('float32') / 255.\n",
    "x_train = x_train.reshape((len(x_train), np.prod(x_train.shape[1:])))\n",
    "x_test = x_test.reshape((len(x_test), np.prod(x_test.shape[1:])))\n",
    "print(x_train.shape)\n",
    "print(x_test.shape)"
   ]
  },
  {
   "cell_type": "code",
   "execution_count": 5,
   "metadata": {},
   "outputs": [
    {
     "name": "stdout",
     "output_type": "stream",
     "text": [
      "Train on 60000 samples, validate on 10000 samples\n",
      "Epoch 1/50\n",
      "60000/60000 [==============================] - 6s 106us/step - loss: 0.3670 - val_loss: 0.2711\n",
      "Epoch 2/50\n",
      "60000/60000 [==============================] - 6s 97us/step - loss: 0.2634 - val_loss: 0.2527\n",
      "Epoch 3/50\n",
      "60000/60000 [==============================] - 6s 92us/step - loss: 0.2435 - val_loss: 0.2318\n",
      "Epoch 4/50\n",
      "60000/60000 [==============================] - 5s 87us/step - loss: 0.2238 - val_loss: 0.2135\n",
      "Epoch 5/50\n",
      "60000/60000 [==============================] - 5s 82us/step - loss: 0.2080 - val_loss: 0.2002\n",
      "Epoch 6/50\n",
      "60000/60000 [==============================] - 5s 86us/step - loss: 0.1963 - val_loss: 0.1901\n",
      "Epoch 7/50\n",
      "60000/60000 [==============================] - 5s 83us/step - loss: 0.1875 - val_loss: 0.1822\n",
      "Epoch 8/50\n",
      "60000/60000 [==============================] - 5s 83us/step - loss: 0.1806 - val_loss: 0.1760\n",
      "Epoch 9/50\n",
      "60000/60000 [==============================] - 5s 85us/step - loss: 0.1748 - val_loss: 0.1706\n",
      "Epoch 10/50\n",
      "60000/60000 [==============================] - 5s 84us/step - loss: 0.1697 - val_loss: 0.1657\n",
      "Epoch 11/50\n",
      "60000/60000 [==============================] - 5s 82us/step - loss: 0.1651 - val_loss: 0.1613\n",
      "Epoch 12/50\n",
      "60000/60000 [==============================] - 5s 84us/step - loss: 0.1609 - val_loss: 0.1575\n",
      "Epoch 13/50\n",
      "60000/60000 [==============================] - 5s 86us/step - loss: 0.1570 - val_loss: 0.1536\n",
      "Epoch 14/50\n",
      "60000/60000 [==============================] - 5s 84us/step - loss: 0.1535 - val_loss: 0.1501\n",
      "Epoch 15/50\n",
      "60000/60000 [==============================] - 5s 86us/step - loss: 0.1502 - val_loss: 0.1470\n",
      "Epoch 16/50\n",
      "60000/60000 [==============================] - 5s 91us/step - loss: 0.1471 - val_loss: 0.1439\n",
      "Epoch 17/50\n",
      "60000/60000 [==============================] - 5s 80us/step - loss: 0.1443 - val_loss: 0.1412\n",
      "Epoch 18/50\n",
      "60000/60000 [==============================] - 5s 81us/step - loss: 0.1416 - val_loss: 0.1387\n",
      "Epoch 19/50\n",
      "60000/60000 [==============================] - 5s 85us/step - loss: 0.1392 - val_loss: 0.1363\n",
      "Epoch 20/50\n",
      "60000/60000 [==============================] - 5s 81us/step - loss: 0.1369 - val_loss: 0.1341\n",
      "Epoch 21/50\n",
      "60000/60000 [==============================] - 5s 82us/step - loss: 0.1347 - val_loss: 0.1320\n",
      "Epoch 22/50\n",
      "60000/60000 [==============================] - 5s 87us/step - loss: 0.1327 - val_loss: 0.1299\n",
      "Epoch 23/50\n",
      "60000/60000 [==============================] - 5s 80us/step - loss: 0.1307 - val_loss: 0.1280\n",
      "Epoch 24/50\n",
      "60000/60000 [==============================] - 5s 81us/step - loss: 0.1288 - val_loss: 0.1262\n",
      "Epoch 25/50\n",
      "60000/60000 [==============================] - 5s 91us/step - loss: 0.1270 - val_loss: 0.1244\n",
      "Epoch 26/50\n",
      "60000/60000 [==============================] - 5s 85us/step - loss: 0.1252 - val_loss: 0.1227.1\n",
      "Epoch 27/50\n",
      "60000/60000 [==============================] - 7s 122us/step - loss: 0.1236 - val_loss: 0.1210\n",
      "Epoch 28/50\n",
      "60000/60000 [==============================] - 9s 147us/step - loss: 0.1219 - val_loss: 0.1195\n",
      "Epoch 29/50\n",
      "60000/60000 [==============================] - 6s 107us/step - loss: 0.1204 - val_loss: 0.1180\n",
      "Epoch 30/50\n",
      "60000/60000 [==============================] - 8s 135us/step - loss: 0.1190 - val_loss: 0.1166\n",
      "Epoch 31/50\n",
      "60000/60000 [==============================] - 8s 129us/step - loss: 0.1176 - val_loss: 0.1153\n",
      "Epoch 32/50\n",
      "60000/60000 [==============================] - 7s 124us/step - loss: 0.1163 - val_loss: 0.1140\n",
      "Epoch 33/50\n",
      "60000/60000 [==============================] - 7s 116us/step - loss: 0.1151 - val_loss: 0.1129A: 0s -\n",
      "Epoch 34/50\n",
      "60000/60000 [==============================] - 7s 112us/step - loss: 0.1140 - val_loss: 0.1119\n",
      "Epoch 35/50\n",
      "60000/60000 [==============================] - 6s 99us/step - loss: 0.1130 - val_loss: 0.1108\n",
      "Epoch 36/50\n",
      "60000/60000 [==============================] - 6s 101us/step - loss: 0.1120 - val_loss: 0.1099\n",
      "Epoch 37/50\n",
      "60000/60000 [==============================] - 7s 115us/step - loss: 0.1111 - val_loss: 0.1091\n",
      "Epoch 38/50\n",
      "60000/60000 [==============================] - 6s 106us/step - loss: 0.1103 - val_loss: 0.1082\n",
      "Epoch 39/50\n",
      "60000/60000 [==============================] - 6s 108us/step - loss: 0.1095 - val_loss: 0.1075\n",
      "Epoch 40/50\n",
      "60000/60000 [==============================] - 7s 116us/step - loss: 0.1088 - val_loss: 0.1068\n",
      "Epoch 41/50\n",
      "60000/60000 [==============================] - 6s 96us/step - loss: 0.1081 - val_loss: 0.1062\n",
      "Epoch 42/50\n",
      "60000/60000 [==============================] - 7s 117us/step - loss: 0.1075 - val_loss: 0.1055\n",
      "Epoch 43/50\n",
      "60000/60000 [==============================] - 7s 121us/step - loss: 0.1069 - val_loss: 0.1050 0s\n",
      "Epoch 44/50\n",
      "60000/60000 [==============================] - 8s 135us/step - loss: 0.1064 - val_loss: 0.1044\n",
      "Epoch 45/50\n",
      "60000/60000 [==============================] - 7s 114us/step - loss: 0.1058 - val_loss: 0.1039\n",
      "Epoch 46/50\n",
      "60000/60000 [==============================] - 8s 137us/step - loss: 0.1054 - val_loss: 0.1035\n",
      "Epoch 47/50\n",
      "60000/60000 [==============================] - 7s 112us/step - loss: 0.1049 - val_loss: 0.1030\n",
      "Epoch 48/50\n",
      "60000/60000 [==============================] - 7s 114us/step - loss: 0.1045 - val_loss: 0.1026\n",
      "Epoch 49/50\n",
      "60000/60000 [==============================] - 7s 121us/step - loss: 0.1041 - val_loss: 0.1022\n",
      "Epoch 50/50\n",
      "60000/60000 [==============================] - 7s 117us/step - loss: 0.1037 - val_loss: 0.1019\n"
     ]
    },
    {
     "data": {
      "text/plain": [
       "<keras.callbacks.History at 0x1d33d9245c0>"
      ]
     },
     "execution_count": 5,
     "metadata": {},
     "output_type": "execute_result"
    }
   ],
   "source": [
    "autoencoder.fit(x_train, x_train,\n",
    "                epochs=50,\n",
    "                batch_size=256,\n",
    "                shuffle=True,\n",
    "                validation_data=(x_test, x_test))"
   ]
  },
  {
   "cell_type": "code",
   "execution_count": 6,
   "metadata": {},
   "outputs": [
    {
     "data": {
      "image/png": "[encoded data removed]",
      "text/plain": [
       "<Figure size 1440x288 with 20 Axes>"
      ]
     },
     "metadata": {
      "needs_background": "light"
     },
     "output_type": "display_data"
    }
   ],
   "source": [
    "# encode and decode some digits\n",
    "# note that we take them from the *test* set\n",
    "encoded_imgs = encoder.predict(x_test)\n",
    "decoded_imgs = decoder.predict(encoded_imgs)\n",
    "\n",
    "n = 10  # how many digits we will display\n",
    "plt.figure(figsize=(20, 4))\n",
    "for i in range(n):\n",
    "    # display original\n",
    "    ax = plt.subplot(2, n, i + 1)\n",
    "    plt.imshow(x_test[i].reshape(28, 28))\n",
    "    plt.gray()\n",
    "    ax.get_xaxis().set_visible(False)\n",
    "    ax.get_yaxis().set_visible(False)\n",
    "\n",
    "    # display reconstruction\n",
    "    ax = plt.subplot(2, n, i + 1 + n)\n",
    "    plt.imshow(decoded_imgs[i].reshape(28, 28))\n",
    "    plt.gray()\n",
    "    ax.get_xaxis().set_visible(False)\n",
    "    ax.get_yaxis().set_visible(False)\n",
    "plt.show()"
   ]
  }
 ],
 "metadata": {
  "kernelspec": {
   "display_name": "Python 3",
   "language": "python",
   "name": "python3"
  },
  "language_info": {
   "codemirror_mode": {
    "name": "ipython",
    "version": 3
   },
   "file_extension": ".py",
   "mimetype": "text/x-python",
   "name": "python",
   "nbconvert_exporter": "python",
   "pygments_lexer": "ipython3",
   "version": "3.6.8"
  }
 },
 "nbformat": 4,
 "nbformat_minor": 2
}
